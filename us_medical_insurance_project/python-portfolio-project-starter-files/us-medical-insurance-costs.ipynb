{
 "cells": [
  {
   "cell_type": "markdown",
   "metadata": {},
   "source": [
    "# U.S. Medical Insurance Costs"
   ]
  },
  {
   "cell_type": "markdown",
   "metadata": {},
   "source": [
    "This is my first time making a jupyter notebook from scratch! Here's hoping all goes well.\n",
    "\n",
    "This Codecademy project is open-ended. We were given a CSV of U.S. medical insurance data and encouraged to play around with it.\n",
    "\n",
    "I think in this project I'd like to focus on seeing how each factor impacts insurance costs.\n",
    "\n",
    "Let's start by importing the CSV file. I'll use a `with` statement so we don't clutter up our computer's processing."
   ]
  },
  {
   "cell_type": "code",
   "execution_count": 1,
   "metadata": {},
   "outputs": [],
   "source": [
    "import csv\n",
    "\n",
    "insurance_csv = open('insurance.csv')\n",
    "insurance_dict = csv.DictReader(insurance_csv)"
   ]
  },
  {
   "cell_type": "markdown",
   "metadata": {},
   "source": [
    "Now we have the data saved as a Python dictionary. Let's try finding some average values for each variable and seeing how they compare. I'll start with sex."
   ]
  },
  {
   "cell_type": "code",
   "execution_count": 2,
   "metadata": {},
   "outputs": [
    {
     "name": "stdout",
     "output_type": "stream",
     "text": [
      "12569.57884383534 13956.751177721886\n"
     ]
    }
   ],
   "source": [
    "female_total = 0\n",
    "male_total = 0\n",
    "female_count = 0\n",
    "male_count = 0\n",
    "#row_count = sum(1 for row in insurance_dict)\n",
    "#print(row_count) #1338\n",
    "for row in insurance_dict:\n",
    "    if row['sex'] == 'female':\n",
    "        female_total += float(row['charges'])\n",
    "        female_count += 1\n",
    "    else:\n",
    "        male_total += float(row['charges'])\n",
    "        male_count += 1\n",
    "#print(female_total, female_count)\n",
    "female_average = female_total/female_count\n",
    "male_average = male_total/male_count\n",
    "print(female_average, male_average)"
   ]
  },
  {
   "cell_type": "markdown",
   "metadata": {},
   "source": [
    "So, on average, it appears that men have more expensive health insurance. Could it be that men are more likely to have other factors that raise their expenses? E.g. being smokers, having a higher BMI, etc.? Let's find out."
   ]
  },
  {
   "cell_type": "code",
   "execution_count": 3,
   "metadata": {},
   "outputs": [
    {
     "name": "stdout",
     "output_type": "stream",
     "text": [
      "0.0 0.0\n"
     ]
    }
   ],
   "source": [
    "male_age = 0\n",
    "female_age = 0\n",
    "for row in insurance_dict:\n",
    "    if row['sex'] == 'female':\n",
    "        female_age += int(row['age'])\n",
    "    else:\n",
    "        male_total += int(row['age'])\n",
    "female_average_age = female_age/female_count\n",
    "male_average_age = male_age/male_count\n",
    "print(female_average_age, male_average_age)"
   ]
  },
  {
   "cell_type": "code",
   "execution_count": null,
   "metadata": {},
   "outputs": [],
   "source": []
  }
 ],
 "metadata": {
  "kernelspec": {
   "display_name": "Python 3",
   "language": "python",
   "name": "python3"
  },
  "language_info": {
   "codemirror_mode": {
    "name": "ipython",
    "version": 3
   },
   "file_extension": ".py",
   "mimetype": "text/x-python",
   "name": "python",
   "nbconvert_exporter": "python",
   "pygments_lexer": "ipython3",
   "version": "3.9.0"
  }
 },
 "nbformat": 4,
 "nbformat_minor": 4
}
